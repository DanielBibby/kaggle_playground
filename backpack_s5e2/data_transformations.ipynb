{
 "cells": [
  {
   "cell_type": "code",
   "execution_count": null,
   "id": "d425ab76",
   "metadata": {},
   "outputs": [],
   "source": [
    "import pandas as pd\n",
    "import os"
   ]
  },
  {
   "cell_type": "code",
   "execution_count": null,
   "id": "25efde4a",
   "metadata": {},
   "outputs": [],
   "source": [
    "df_train = pd.read_csv(\"data/train.csv\")\n",
    "df_test = pd.read_csv(\"data/test.csv\")"
   ]
  },
  {
   "cell_type": "markdown",
   "id": "ef5a114a",
   "metadata": {},
   "source": [
    "## Helper functions"
   ]
  },
  {
   "cell_type": "code",
   "execution_count": null,
   "id": "b3de54a4",
   "metadata": {},
   "outputs": [],
   "source": [
    "categorical_columns = ['Brand', 'Material', 'Size', 'Laptop Compartment','Waterproof', 'Style', 'Color']\n",
    "numeric_columns = ['Weight Capacity (kg)', 'Price']"
   ]
  },
  {
   "cell_type": "code",
   "execution_count": null,
   "id": "1887a4f2",
   "metadata": {},
   "outputs": [],
   "source": [
    "def perform_transformation_and_save_data(df: pd.DataFrame, transformation, name: str):\n",
    "    \"\"\"Applies a transformation to a DataFrame and saves it as a CSV file.\n",
    "\n",
    "    Args:\n",
    "        df (pd.DataFrame): The DataFrame to transform.\n",
    "        transformation (callable): A function to apply to each column or row.\n",
    "        name (str): The filename for the output CSV.\n",
    "\n",
    "    Returns:\n",
    "        None\n",
    "    \"\"\"\n",
    "    if not isinstance(df, pd.DataFrame):\n",
    "        raise ValueError(\"Input df must be a pandas DataFrame.\")\n",
    "\n",
    "    if not callable(transformation):\n",
    "        raise ValueError(\"Transformation must be a callable function.\")\n",
    "\n",
    "    os.makedirs(\"data\", exist_ok=True)\n",
    "\n",
    "    new_df = transformation(df)\n",
    "\n",
    "    if not name.endswith(\".csv\"):\n",
    "        name += \".csv\"\n",
    "\n",
    "    new_df.to_csv(f\"data/{name}\", index=False)\n",
    "    \n",
    "    return new_df\n"
   ]
  },
  {
   "cell_type": "code",
   "execution_count": null,
   "id": "1d68916a",
   "metadata": {},
   "outputs": [],
   "source": [
    "def fill_na_with_missing(df, columns):\n",
    "    for col in columns:\n",
    "        df[col] = df[col].fillna(\"Missing\")\n",
    "        \n",
    "        \n",
    "    return df"
   ]
  },
  {
   "cell_type": "code",
   "execution_count": null,
   "id": "bb2d526c",
   "metadata": {},
   "outputs": [],
   "source": [
    "def one_hot_encode(df: pd.DataFrame, columns) -> pd.DataFrame:\n",
    "    \n",
    "    return pd.get_dummies(df, columns=columns, drop_first=True)\n"
   ]
  },
  {
   "cell_type": "markdown",
   "id": "92333b7f",
   "metadata": {},
   "source": [
    "## Transformations"
   ]
  },
  {
   "cell_type": "code",
   "execution_count": null,
   "id": "8067b025",
   "metadata": {},
   "outputs": [],
   "source": [
    "def generic_transformation(df):\n",
    "    \n",
    "    cols_to_transform = categorical_columns = ['Brand', 'Material', 'Size', 'Laptop Compartment','Waterproof', 'Style', 'Color']\n",
    "    \n",
    "    new_df = fill_na_with_missing(df, cols_to_transform)\n",
    "    new_df = one_hot_encode(new_df, cols_to_transform)\n",
    "    \n",
    "    return new_df"
   ]
  },
  {
   "cell_type": "markdown",
   "id": "b9966d03",
   "metadata": {},
   "source": [
    "#### DEMO"
   ]
  },
  {
   "cell_type": "code",
   "execution_count": null,
   "id": "a1b13f13",
   "metadata": {},
   "outputs": [],
   "source": [
    "new_train = perform_transformation_and_save_data(df_train, generic_transformation, \"new_train\")\n",
    "new_test = perform_transformation_and_save_data(df_test, generic_transformation, \"new_test\")"
   ]
  },
  {
   "cell_type": "code",
   "execution_count": null,
   "id": "cd843b1a",
   "metadata": {},
   "outputs": [],
   "source": [
    "# notice there are no null values in any columns\n",
    "\n",
    "new_train.info()"
   ]
  }
 ],
 "metadata": {
  "kernelspec": {
   "display_name": "Python 3 (ipykernel)",
   "language": "python",
   "name": "python3"
  },
  "language_info": {
   "codemirror_mode": {
    "name": "ipython",
    "version": 3
   },
   "file_extension": ".py",
   "mimetype": "text/x-python",
   "name": "python",
   "nbconvert_exporter": "python",
   "pygments_lexer": "ipython3",
   "version": "3.11.5"
  }
 },
 "nbformat": 4,
 "nbformat_minor": 5
}
