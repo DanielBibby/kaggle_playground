{
 "cells": [
  {
   "cell_type": "code",
   "execution_count": null,
   "id": "b4601d52",
   "metadata": {},
   "outputs": [],
   "source": [
    "import pandas as pd\n",
    "import xgboost as xgb\n",
    "from sklearn.model_selection import train_test_split\n",
    "from sklearn.metrics import mean_squared_error"
   ]
  },
  {
   "cell_type": "code",
   "execution_count": null,
   "id": "a8171770",
   "metadata": {},
   "outputs": [],
   "source": [
    "df_train = pd.read_csv(\"data/new_train.csv\")\n",
    "df_test = pd.read_csv(\"data/new_test.csv\")\n",
    "\n",
    "df_train = df_train.drop(columns=[\"id\"])"
   ]
  },
  {
   "cell_type": "code",
   "execution_count": null,
   "id": "0af167e8",
   "metadata": {},
   "outputs": [],
   "source": [
    "df_train.columns"
   ]
  },
  {
   "cell_type": "code",
   "execution_count": null,
   "id": "5a5e5888",
   "metadata": {},
   "outputs": [],
   "source": [
    "train_x, test_x, train_y, test_y = train_test_split(\n",
    "    df_train.drop(columns=[\"Price\"]),\n",
    "    df_train[\"Price\"],\n",
    "    test_size=0.2,  \n",
    "    random_state=42  \n",
    ")\n"
   ]
  },
  {
   "cell_type": "code",
   "execution_count": null,
   "id": "a1066bd2",
   "metadata": {},
   "outputs": [],
   "source": [
    " # creating a model of min total amount payable using xgboost algoirhtm with basic hyperparameters\n",
    "\n",
    "\n",
    "train_x_xgb = xgb.DMatrix(train_x, label = train_y)\n",
    "test_x_xgb = xgb.DMatrix(test_x, label = test_y)\n",
    "\n",
    "\n",
    "params = {\n",
    "    'objective': 'reg:squarederror',  \n",
    "    'max_depth': 15, \n",
    "    'eta': 0.3,\n",
    "}\n",
    "\n",
    "#Evlauation\n",
    "model = xgb.train(params, train_x_xgb, num_boost_round = 100)\n",
    "\n",
    "train_predictions = model.predict(train_x_xgb)\n",
    "predictions = model.predict(test_x_xgb)\n",
    "\n",
    "\n",
    "mse = mean_squared_error(test_y, predictions)\n",
    "rmse = mse**0.5\n",
    "\n",
    "print(f'RMSE on testing data: {rmse}')\n",
    "\n",
    "mse = mean_squared_error(train_y, train_predictions)\n",
    "rmse = mse**0.5\n",
    "\n",
    "print(f'RMSE on training data: {rmse}')\n"
   ]
  },
  {
   "cell_type": "code",
   "execution_count": null,
   "id": "3b2e6447",
   "metadata": {},
   "outputs": [],
   "source": [
    " # creating a model of min total amount payable using xgboost algoirhtm with basic hyperparameters\n",
    "\n",
    "\n",
    "train_x_xgb = xgb.DMatrix(df_train.drop(columns=[\"Price\"]), label = df_train[\"Price\"])\n",
    "\n",
    "\n",
    "params = {\n",
    "    'objective': 'reg:squarederror',  \n",
    "    'max_depth': 15, \n",
    "    'eta': 0.3,\n",
    "}\n",
    "\n",
    "#Evlauation\n",
    "model = xgb.train(params, train_x_xgb, num_boost_round = 100)\n",
    "\n",
    "train_predictions = model.predict(train_x_xgb)\n",
    "\n",
    "test_x_xgb = xgb.DMatrix(df_test.drop(columns=[\"id\"]))\n",
    "\n",
    "predictions = model.predict(test_x_xgb)\n",
    "\n"
   ]
  },
  {
   "cell_type": "code",
   "execution_count": null,
   "id": "ad4f838b",
   "metadata": {},
   "outputs": [],
   "source": [
    "submission = pd.DataFrame({\"id\": df_test.id, \"Price\": predictions})"
   ]
  },
  {
   "cell_type": "code",
   "execution_count": null,
   "id": "e4e0a082",
   "metadata": {},
   "outputs": [],
   "source": [
    "submission.to_csv(\"submissions/example_submission.csv\" , index=False)"
   ]
  }
 ],
 "metadata": {
  "kernelspec": {
   "display_name": "Python 3 (ipykernel)",
   "language": "python",
   "name": "python3"
  },
  "language_info": {
   "codemirror_mode": {
    "name": "ipython",
    "version": 3
   },
   "file_extension": ".py",
   "mimetype": "text/x-python",
   "name": "python",
   "nbconvert_exporter": "python",
   "pygments_lexer": "ipython3",
   "version": "3.11.5"
  }
 },
 "nbformat": 4,
 "nbformat_minor": 5
}
